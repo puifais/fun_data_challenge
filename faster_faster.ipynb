{
 "cells": [
  {
   "cell_type": "markdown",
   "metadata": {},
   "source": [
    "It seems I needed to do these tasks whenever tackling data challenges. So I've compiled these shortcuts to minimize time spent Googling"
   ]
  },
  {
   "cell_type": "markdown",
   "metadata": {},
   "source": [
    "# Packages to import"
   ]
  },
  {
   "cell_type": "code",
   "execution_count": null,
   "metadata": {
    "collapsed": true
   },
   "outputs": [],
   "source": [
    "%matplotlib inline\n",
    "\n",
    "import pandas as pd\n",
    "import numpy as np\n",
    "from datetime import datetime\n",
    "\n",
    "import matplotlib.pyplot as plt\n",
    "import seaborn as sns\n",
    "\n",
    "from imblearn.over_sampling import SMOTE\n",
    "\n",
    "from sklearn.preprocessing import Imputer, scale, normalize\n",
    "from sklearn.ensemble import RandomForestClassifier, RandomForestRegressor\n",
    "from sklearn import linear_model\n",
    "\n",
    "from sklearn.model_selection import train_test_split,LeaveOneOut \n",
    "from sklearn.cross_validation import cross_val_score, cross_val_predict\n",
    "from sklearn import metrics\n",
    "\n",
    "from sklearn.metrics.pairwise import cosine_similarity\n",
    "import os, shutil, glob"
   ]
  },
  {
   "cell_type": "markdown",
   "metadata": {},
   "source": [
    "# Get data into Pandas"
   ]
  },
  {
   "cell_type": "code",
   "execution_count": null,
   "metadata": {
    "collapsed": true
   },
   "outputs": [],
   "source": [
    "df = pd.read_csv('breast-cancer-wisconsin.data.txt', sep=\",\", header=None, dtype=str)\n",
    "df = pd.read_csv('11-2-16_data_analyst_case_study.csv', sep=\",\", dtype=str)"
   ]
  },
  {
   "cell_type": "code",
   "execution_count": null,
   "metadata": {
    "collapsed": true
   },
   "outputs": [],
   "source": [
    "df.columns = ['id','clump_thickness','uniformity_size','uniformity_shape']\n",
    "df.set_index('id', inplace=True)"
   ]
  },
  {
   "cell_type": "code",
   "execution_count": null,
   "metadata": {
    "collapsed": true
   },
   "outputs": [],
   "source": [
    "df.describe(include='all')"
   ]
  },
  {
   "cell_type": "markdown",
   "metadata": {},
   "source": [
    "#### Change data type"
   ]
  },
  {
   "cell_type": "code",
   "execution_count": null,
   "metadata": {
    "collapsed": false
   },
   "outputs": [],
   "source": [
    "numeric_col = ['clump_thickness','uniformity_size','uniformity_shape']\n",
    "df[numeric_col] = df[numeric_col].apply(pd.to_numeric, errors='coerce')\n",
    "\n",
    "df['date_of_birth'] =  pd.to_datetime(df['date_of_birth'])\n",
    "df[dates_columns] = df[dates_columns].apply(pd.to_datetime, format='%Y%m%d', errors='coerce') "
   ]
  },
  {
   "cell_type": "code",
   "execution_count": null,
   "metadata": {
    "collapsed": true
   },
   "outputs": [],
   "source": [
    "users_df['sequence'] = users_df['sequence'].str.zfill(12)"
   ]
  },
  {
   "cell_type": "markdown",
   "metadata": {},
   "source": [
    "# Feature engineering"
   ]
  },
  {
   "cell_type": "code",
   "execution_count": null,
   "metadata": {
    "collapsed": false,
    "scrolled": false
   },
   "outputs": [],
   "source": [
    "now = datetime.now()\n",
    "df['how_long_ago'] = abs(now - df['date_of_birth']).astype('timedelta64[Y]')\n",
    "df['time_between_dates'] = df['date1']-df['date2']"
   ]
  },
  {
   "cell_type": "code",
   "execution_count": null,
   "metadata": {
    "collapsed": true
   },
   "outputs": [],
   "source": [
    "num_closed_cards = trades_shortdf.groupby('sequence_number').closed_date.count().to_frame()\n",
    "num_closed_cards.rename(columns={'closed_date': 'num_closed_cards'}, inplace=True)"
   ]
  },
  {
   "cell_type": "code",
   "execution_count": null,
   "metadata": {
    "collapsed": true
   },
   "outputs": [],
   "source": [
    "#create column with most frequently appeared string in another column\n",
    "eqc_code = df.groupby('sequence_number').equal_credit_opportunity_act_code.agg(lambda x:x.value_counts().index[0]).to_frame()"
   ]
  },
  {
   "cell_type": "code",
   "execution_count": null,
   "metadata": {
    "collapsed": true
   },
   "outputs": [],
   "source": [
    "complete3 = pd.concat([first_df,complete,new_features], axis=1, join='inner')"
   ]
  },
  {
   "cell_type": "markdown",
   "metadata": {},
   "source": [
    "# Deal with missing data"
   ]
  },
  {
   "cell_type": "markdown",
   "metadata": {},
   "source": [
    "#### Impute missing data"
   ]
  },
  {
   "cell_type": "code",
   "execution_count": null,
   "metadata": {
    "collapsed": true
   },
   "outputs": [],
   "source": [
    "imp = Imputer(missing_values='NaN', strategy='median', axis=0)\n",
    "temp = pd.DataFrame(imp.fit_transform(df))\n",
    "temp.columns = df.columns\n",
    "temp.index = df.index\n",
    "df = temp\n",
    "del temp # to free up memory"
   ]
  },
  {
   "cell_type": "markdown",
   "metadata": {},
   "source": [
    "#### Drop missing data"
   ]
  },
  {
   "cell_type": "code",
   "execution_count": null,
   "metadata": {
    "collapsed": true
   },
   "outputs": [],
   "source": [
    "#drop entire row when household_size is null\n",
    "df = df.dropna(how='any', subset=['household_size'])"
   ]
  },
  {
   "cell_type": "markdown",
   "metadata": {},
   "source": [
    "# Normalize numerical data"
   ]
  },
  {
   "cell_type": "code",
   "execution_count": null,
   "metadata": {
    "collapsed": true
   },
   "outputs": [],
   "source": [
    "temp = pd.DataFrame(normalize(data_df[numeric_col]))\n",
    "temp.columns = numeric_col\n",
    "temp.index = data_df.index\n",
    "data_df[numeric_col] = temp[numeric_col]\n",
    "del temp # to free up memory"
   ]
  },
  {
   "cell_type": "markdown",
   "metadata": {},
   "source": [
    "# Dummify categorical data"
   ]
  },
  {
   "cell_type": "code",
   "execution_count": null,
   "metadata": {
    "collapsed": true
   },
   "outputs": [],
   "source": [
    "dummy_sex = pd.get_dummies(data_df.patient_sex, prefix='sex')\n",
    "dummy_surgeon = pd.get_dummies(data_df.surgeon_id, prefix='surgeon')\n",
    "\n",
    "ready_df = df\n",
    "ready_df = ready_df.join([dummy_sex,dummy_surgeon])\n",
    "ready_df.drop(['patient_sex','surgeon_id'], axis=1, inplace=True)"
   ]
  },
  {
   "cell_type": "markdown",
   "metadata": {},
   "source": [
    "# Train machine learning model"
   ]
  },
  {
   "cell_type": "code",
   "execution_count": null,
   "metadata": {
    "collapsed": true
   },
   "outputs": [],
   "source": [
    "X = ready_df[ready_df.columns[:-1]].values\n",
    "y = (ready_df['pass(4)/fail(2)'].values == 4)\n",
    "features_labels = ready_df.columns\n",
    "features_labels = features_labels.drop(['pass(4)/fail(2)'])\n",
    "\n",
    "X_train, X_test, y_train, y_test = train_test_split(X, y, test_size=0.25, random_state=42)"
   ]
  },
  {
   "cell_type": "markdown",
   "metadata": {},
   "source": [
    "#### Random Forest Classification"
   ]
  },
  {
   "cell_type": "code",
   "execution_count": null,
   "metadata": {
    "collapsed": true
   },
   "outputs": [],
   "source": [
    "clf = RandomForestClassifier(n_estimators=100, n_jobs=-1)\n",
    "model = clf.fit(X_train, y_train)\n",
    "predictions = model.predict(X_test) #'model' or 'clf'?"
   ]
  },
  {
   "cell_type": "markdown",
   "metadata": {},
   "source": [
    "#### Random Forest Regression"
   ]
  },
  {
   "cell_type": "code",
   "execution_count": null,
   "metadata": {
    "collapsed": true
   },
   "outputs": [],
   "source": [
    "regr = RandomForestRegressor(n_estimators=100, n_jobs=-1)\n",
    "model = regr.fit(X_train, y_train)\n",
    "predictions = model.predict(X_test) #'model' or 'clf'?"
   ]
  },
  {
   "cell_type": "markdown",
   "metadata": {},
   "source": [
    "#### Kmeans Clustering"
   ]
  },
  {
   "cell_type": "code",
   "execution_count": null,
   "metadata": {
    "collapsed": true
   },
   "outputs": [],
   "source": [
    "est = KMeans(n_clusters=2, random_state=random_state)\n",
    "y_pred = est.fit_predict(X)"
   ]
  },
  {
   "cell_type": "markdown",
   "metadata": {},
   "source": [
    "# Evaluation"
   ]
  },
  {
   "cell_type": "code",
   "execution_count": null,
   "metadata": {
    "collapsed": true
   },
   "outputs": [],
   "source": [
    "importances = model.feature_importances_\n",
    "indices = np.argsort(importances)[::-1]\n",
    "\n",
    "for f in range(X_train.shape[1]):\n",
    "    print(\"%3d) %-*s %f\" % (f+1, 30, features_labels[indices[f]], importances[indices[f]]))\n",
    "    \n",
    "scores = cross_val_score(model, X, y, scoring='f1') #or r2\n",
    "print(\"Cross-validated Training F1-score: %0.2f (+/- %0.2f)\" % (scores.mean(), scores.std() * 2))\n",
    "print('')\n",
    "\n",
    "predictions = cross_val_predict(model, X, y)\n",
    "accuracy = metrics.accuracy_score(y, predictions)\n",
    "precision = metrics.precision_score(y, predictions)\n",
    "recall = metrics.recall_score(y, predictions)\n",
    "roc_auc = metrics.roc_auc_score(y, predictions)\n",
    "\n",
    "print('Cross-validated Predicted Accuracy:', accuracy)\n",
    "print('Cross-validated Predicted Precision:', precision)\n",
    "print('Cross-validated Predicted Sensitivity (aka recall):', recall)\n",
    "#print('Predicted AUC of ROC:', roc_auc)"
   ]
  },
  {
   "cell_type": "markdown",
   "metadata": {},
   "source": [
    "http://scikit-learn.org/stable/modules/model_evaluation.html#scoring-parameter"
   ]
  },
  {
   "cell_type": "markdown",
   "metadata": {},
   "source": [
    "# Plotting"
   ]
  },
  {
   "cell_type": "code",
   "execution_count": null,
   "metadata": {
    "collapsed": true
   },
   "outputs": [],
   "source": [
    "sorted_df = data_df\n",
    "sorted_df['surgeon_id'] = pd.to_numeric(sorted_df['surgeon_id'])\n",
    "sorted_df.sort_values(['surgeon_id'], ascending=1, inplace=True)\n",
    "ax = sns.countplot(x=\"surgeon_id\", data=sorted_df, hue=\"success\")"
   ]
  },
  {
   "cell_type": "markdown",
   "metadata": {},
   "source": [
    "# Exploring data"
   ]
  },
  {
   "cell_type": "code",
   "execution_count": null,
   "metadata": {
    "collapsed": true
   },
   "outputs": [],
   "source": [
    "all_severe = sum(data_df['initial_severity']=='SEVERE')\n",
    "all_minor = sum(data_df['initial_severity']=='MINOR')\n",
    "print('%initially severe:  ', all_severe/(all_severe+all_minor))"
   ]
  },
  {
   "cell_type": "code",
   "execution_count": null,
   "metadata": {
    "collapsed": true
   },
   "outputs": [],
   "source": [
    "surgeon6 = data_df['surgeon_id']==6\n",
    "failed = data_df['success']=='FALSE'\n",
    "success = data_df['success']=='TRUE'\n",
    "data_df[surgeon6&success].age.count()"
   ]
  },
  {
   "cell_type": "code",
   "execution_count": null,
   "metadata": {
    "collapsed": true
   },
   "outputs": [],
   "source": [
    "#look at only rows with successful outcomes\n",
    "success_df = data_df[data_df['success']=='TRUE']\n",
    "success_df['age'].describe()"
   ]
  },
  {
   "cell_type": "markdown",
   "metadata": {},
   "source": [
    "# File I/O (unlikely)"
   ]
  },
  {
   "cell_type": "code",
   "execution_count": null,
   "metadata": {
    "collapsed": true
   },
   "outputs": [],
   "source": [
    "original_dir = '~/Documents/something/'\n",
    "\n",
    "os.chdir(os.path.dirname(original_dir))\n",
    "\n",
    "TeraStitcher_dir = os.path.dirname(original_dir) + '_TeraStitcher'\n",
    "\n",
    "original_filefullpath = os.path.join(original_dir,file)\n",
    "\n",
    "files_in_tile = glob.glob(search_word)\n",
    "for file in files_in_tile:\n",
    "    print('do something')\n",
    "\n",
    "if os.path.exists(TeraStitcher_dir): # if this folder already exists, remove it\n",
    "    shutil.rmtree(TeraStitcher_dir)\n",
    "    os.mkdir(TeraStitcher_dir)\n",
    "    os.chdir(TeraStitcher_dir)"
   ]
  }
 ],
 "metadata": {
  "kernelspec": {
   "display_name": "Python 3",
   "language": "python",
   "name": "python3"
  },
  "language_info": {
   "codemirror_mode": {
    "name": "ipython",
    "version": 3
   },
   "file_extension": ".py",
   "mimetype": "text/x-python",
   "name": "python",
   "nbconvert_exporter": "python",
   "pygments_lexer": "ipython3",
   "version": "3.6.0"
  }
 },
 "nbformat": 4,
 "nbformat_minor": 2
}
